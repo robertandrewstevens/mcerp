{
 "cells": [
  {
   "cell_type": "markdown",
   "metadata": {},
   "source": [
    "# Advanced Examples\n",
    "\n",
    "https://pythonhosted.org/mcerp/advanced_example.html"
   ]
  },
  {
   "cell_type": "code",
   "execution_count": 1,
   "metadata": {},
   "outputs": [],
   "source": [
    "from mcerp3 import *  # N, U, Gamma, Beta, correlate, etc."
   ]
  },
  {
   "cell_type": "markdown",
   "metadata": {},
   "source": [
    "In this section, some more advanced/complex usages will be presented."
   ]
  },
  {
   "cell_type": "markdown",
   "metadata": {},
   "source": [
    "## Volumetric Gas Flow Through an Orifice Meter\n",
    "\n",
    "Here’s an interesting engineering example, showing how the random effects of input parameters propagates through the calculation of the volumetric gas flow through an orifice meter:"
   ]
  },
  {
   "cell_type": "code",
   "execution_count": 2,
   "metadata": {},
   "outputs": [
    {
     "name": "stdout",
     "output_type": "stream",
     "text": [
      "MCERP Uncertain Value:\n",
      " > Mean...................  1331.0002189394509\n",
      " > Variance...............  57.79636117924653\n",
      " > Skewness Coefficient...  0.010971840098889973\n",
      " > Kurtosis Coefficient...  3.0424825890360565\n",
      "\n"
     ]
    }
   ],
   "source": [
    "import mcerp3.umath as umath  # sin, exp, sqrt, etc.\n",
    "\n",
    "H = N(64, 0.5)\n",
    "M = N(16, 0.1)\n",
    "P = N(361, 2)\n",
    "t = N(165, 0.5)\n",
    "C = 38.4\n",
    "Q = C*umath.sqrt((520*H*P)/(M*(t + 460)))\n",
    "Q.describe()"
   ]
  },
  {
   "cell_type": "markdown",
   "metadata": {},
   "source": [
    "Interestingly enough, even though the calculations involve multiplication, division, and a square-root, the result appears to be very close to a Normal distribution (Q ~ N(1331, 7.6))."
   ]
  },
  {
   "cell_type": "markdown",
   "metadata": {},
   "source": [
    "## Manufacturing Tolerance Stackup\n",
    "\n",
    "In a certain manufacturing plant, a record of process data is taken and just happens to fit a Gamma distribution with a mean of 1.5 and a variance of 0.25. With an assembly of three of these parts, our analysis for tolerance stackup would proceed as follows. We first need to convert the distribution statistics to the shape parameters k and theta, which are found by the relations:"
   ]
  },
  {
   "cell_type": "code",
   "execution_count": 3,
   "metadata": {},
   "outputs": [
    {
     "data": {
      "text/plain": [
       "(9.0, 0.16666666666666666)"
      ]
     },
     "execution_count": 3,
     "metadata": {},
     "output_type": "execute_result"
    }
   ],
   "source": [
    "mean = 1.5\n",
    "variance = 0.25\n",
    "k = mean**2/variance\n",
    "theta = variance/mean\n",
    "k, theta"
   ]
  },
  {
   "cell_type": "markdown",
   "metadata": {},
   "source": [
    "We can now proceed with the analysis:"
   ]
  },
  {
   "cell_type": "code",
   "execution_count": 4,
   "metadata": {},
   "outputs": [
    {
     "name": "stdout",
     "output_type": "stream",
     "text": [
      "MCERP Uncertain Value:\n",
      " > Mean...................  4.499990905005162\n",
      " > Variance...............  0.7307952293492459\n",
      " > Skewness Coefficient...  0.36306901636440037\n",
      " > Kurtosis Coefficient...  3.195756126887414\n",
      "\n"
     ]
    }
   ],
   "source": [
    "x = Gamma(k, theta)\n",
    "y = Gamma(k, theta)\n",
    "z = Gamma(k, theta)\n",
    "w = x + y + z\n",
    "w.describe()"
   ]
  },
  {
   "cell_type": "markdown",
   "metadata": {},
   "source": [
    "Due to the skewed nature of the inputs, the output is also slightly skewed."
   ]
  },
  {
   "cell_type": "markdown",
   "metadata": {},
   "source": [
    "## Scheduling Facilities\n",
    "\n",
    "At a manufacturing plant, that has six test-and-repair stations, data is collected about the amount of time that product is present at each station:\n",
    "\n",
    "1. Station 1: Normally distributed, mean of 10 hours, variance of 1 hour.\n",
    "\n",
    "2. Station 2: Normally distributed, mean of 20 hours, variance of 2 hours.\n",
    "\n",
    "3. Station 3: Gamma distributed, mean of 1.5 hours, variance of 0.25 hours.\n",
    "\n",
    "4. Station 4: Gamma distributed, mean of 10 hours, variance of 10 hours.\n",
    "\n",
    "5. Station 5: Exponentially distributed, mean of 0.2 hours, variance of 0.04 hours (decay constant lamda=5).\n",
    "\n",
    "6. Station 6: Chi-squared distributed, mean of 10 hours, variance of 20 hours (degree of freedom v=10).\n",
    "\n",
    "Management wants to understand the uncertainty associated with the whole process:"
   ]
  },
  {
   "cell_type": "code",
   "execution_count": 5,
   "metadata": {},
   "outputs": [
    {
     "name": "stdout",
     "output_type": "stream",
     "text": [
      "MCERP Uncertain Value:\n",
      " > Mean...................  51.69993939943796\n",
      " > Variance...............  33.45313734612313\n",
      " > Skewness Coefficient...  0.5031370598016396\n",
      " > Kurtosis Coefficient...  3.4167807899238007\n",
      "\n"
     ]
    }
   ],
   "source": [
    "# Station 1\n",
    "s1 = N(10, 1)\n",
    "\n",
    "# Station 2\n",
    "s2 = N(20, 2**0.5)\n",
    "\n",
    "# Station 3\n",
    "mn1 = 1.5\n",
    "vr1 = 0.25\n",
    "k1 = mn1**2/vr1\n",
    "theta1 = vr1/mn1\n",
    "s3 = Gamma(k1, theta1)\n",
    "\n",
    "# Station 4\n",
    "mn2 = 10\n",
    "vr2 = 10\n",
    "k2 = mn2**2/vr2\n",
    "theta2 = vr2/mn2\n",
    "s4 = Gamma(k2, theta2)\n",
    "\n",
    "# Station 5\n",
    "s5 = Exp(5)\n",
    "\n",
    "# Station 6\n",
    "s6 = Chi2(10)\n",
    "\n",
    "T = s1 + s2 + s3 + s4 + s5 + s6\n",
    "T.describe()"
   ]
  },
  {
   "cell_type": "markdown",
   "metadata": {},
   "source": [
    "From this analysis, we see that the average process time is about 51.7 hours, but the variance is quite large (standard deviation = 5.8 hours). This gives management the desire to understand which is the greatest contributors, so we can analyze the standard deviations of each process step:"
   ]
  },
  {
   "cell_type": "code",
   "execution_count": 6,
   "metadata": {},
   "outputs": [
    {
     "name": "stdout",
     "output_type": "stream",
     "text": [
      "Station 1 : 0.9998378884429786\n",
      "Station 2 : 1.4139759655466593\n",
      "Station 3 : 0.4999115035264646\n",
      "Station 4 : 3.1615715602197834\n",
      "Station 5 : 0.1998974167020453\n",
      "Station 6 : 4.472515382537669\n"
     ]
    }
   ],
   "source": [
    "for i, si in enumerate([s1, s2, s3, s4, s5, s6]):\n",
    "    print('Station', i + 1, ':', si.std)"
   ]
  },
  {
   "cell_type": "markdown",
   "metadata": {},
   "source": [
    "This would seem to indicate that management could focus their efforts on making the cycle times of stations 4 and 6 more consistent.\n",
    "\n",
    "It may also be useful to understand the probability that a complete cycle will exceed a certain amount, say at 59, 62 and 68 hours:"
   ]
  },
  {
   "cell_type": "code",
   "execution_count": 7,
   "metadata": {},
   "outputs": [
    {
     "data": {
      "text/plain": [
       "[0.10880000000000001, 0.05130000000000001, 0.008000000000000007]"
      ]
     },
     "execution_count": 7,
     "metadata": {},
     "output_type": "execute_result"
    }
   ],
   "source": [
    "prob = [T > hr for hr in [59, 62, 68]]\n",
    "prob"
   ]
  },
  {
   "cell_type": "markdown",
   "metadata": {},
   "source": [
    "That is to say that it is expected that the entire process will take 59 hours approximately 11% of the time, 62 hours 5% of the time, and 68 hours about 1% of the time."
   ]
  }
 ],
 "metadata": {
  "kernelspec": {
   "display_name": "Python 3",
   "language": "python",
   "name": "python3"
  },
  "language_info": {
   "codemirror_mode": {
    "name": "ipython",
    "version": 3
   },
   "file_extension": ".py",
   "mimetype": "text/x-python",
   "name": "python",
   "nbconvert_exporter": "python",
   "pygments_lexer": "ipython3",
   "version": "3.8.5"
  }
 },
 "nbformat": 4,
 "nbformat_minor": 4
}
