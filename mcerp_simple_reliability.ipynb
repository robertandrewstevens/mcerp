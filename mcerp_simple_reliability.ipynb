{
 "cells": [
  {
   "cell_type": "markdown",
   "metadata": {},
   "source": [
    "# A Simple Reliability Example\n",
    "\n",
    "https://pythonhosted.org/mcerp/basic_examples.html\n",
    "\n",
    "adapted for example in\n",
    "\n",
    "http://reliawiki.org/index.php/Reliability_Importance"
   ]
  },
  {
   "cell_type": "code",
   "execution_count": 1,
   "metadata": {},
   "outputs": [],
   "source": [
    "# ! pip install mcerp3"
   ]
  },
  {
   "cell_type": "markdown",
   "metadata": {},
   "source": [
    "Import required modules:"
   ]
  },
  {
   "cell_type": "code",
   "execution_count": 2,
   "metadata": {},
   "outputs": [],
   "source": [
    "from mcerp3 import *  # N, U, Gamma, Beta, correlate, etc.\n",
    "import mcerp3.umath as umath  # sin, exp, sqrt, etc.\n",
    "import scipy.stats as ss  # for weibull distribution: exponweib\n",
    "from scipy.special import gamma\n",
    "import numpy as np"
   ]
  },
  {
   "cell_type": "markdown",
   "metadata": {},
   "source": [
    "Analysis for three components configured reliability-wise in series following a Weibull distribution with β=3 and η1=1,000, η2=2,000 and η3=3,000."
   ]
  },
  {
   "cell_type": "code",
   "execution_count": 3,
   "metadata": {},
   "outputs": [],
   "source": [
    "t = 1000.0\n",
    "loc = 0.0\n",
    "beta = 3.0\n",
    "eta1 = 1000.0\n",
    "eta2 = 2000.0\n",
    "eta3 = 3000.0\n",
    "\n",
    "t1 = uv(ss.exponweib(1, beta, loc=loc, scale=eta1))\n",
    "t2 = uv(ss.exponweib(1, beta, loc=loc, scale=eta2))\n",
    "t3 = uv(ss.exponweib(1, beta, loc=loc, scale=eta3))"
   ]
  },
  {
   "cell_type": "markdown",
   "metadata": {},
   "source": [
    "Check the mean (should be less than eta - the 63.2 percentile):"
   ]
  },
  {
   "cell_type": "code",
   "execution_count": 4,
   "metadata": {},
   "outputs": [
    {
     "data": {
      "text/plain": [
       "892.9782291086551"
      ]
     },
     "execution_count": 4,
     "metadata": {},
     "output_type": "execute_result"
    }
   ],
   "source": [
    "t1.mean"
   ]
  },
  {
   "cell_type": "code",
   "execution_count": 5,
   "metadata": {},
   "outputs": [
    {
     "data": {
      "text/plain": [
       "1785.945170600762"
      ]
     },
     "execution_count": 5,
     "metadata": {},
     "output_type": "execute_result"
    }
   ],
   "source": [
    "t2.mean"
   ]
  },
  {
   "cell_type": "code",
   "execution_count": 6,
   "metadata": {},
   "outputs": [
    {
     "data": {
      "text/plain": [
       "2678.94307974113"
      ]
     },
     "execution_count": 6,
     "metadata": {},
     "output_type": "execute_result"
    }
   ],
   "source": [
    "t3.mean"
   ]
  },
  {
   "cell_type": "code",
   "execution_count": 7,
   "metadata": {},
   "outputs": [
    {
     "data": {
      "text/plain": [
       "0.3679"
      ]
     },
     "execution_count": 7,
     "metadata": {},
     "output_type": "execute_result"
    }
   ],
   "source": [
    "R1 = np.mean(t1 > t)\n",
    "R1"
   ]
  },
  {
   "cell_type": "code",
   "execution_count": 8,
   "metadata": {},
   "outputs": [
    {
     "data": {
      "text/plain": [
       "0.8825000000000001"
      ]
     },
     "execution_count": 8,
     "metadata": {},
     "output_type": "execute_result"
    }
   ],
   "source": [
    "R2 = np.mean(t2 > t)\n",
    "R2"
   ]
  },
  {
   "cell_type": "code",
   "execution_count": 9,
   "metadata": {},
   "outputs": [
    {
     "data": {
      "text/plain": [
       "0.9637"
      ]
     },
     "execution_count": 9,
     "metadata": {},
     "output_type": "execute_result"
    }
   ],
   "source": [
    "R3 = np.mean(t3 > t)\n",
    "R3"
   ]
  },
  {
   "cell_type": "markdown",
   "metadata": {},
   "source": [
    "Compute the Reliability of the system using math for a components in a series (min):"
   ]
  },
  {
   "cell_type": "code",
   "execution_count": 10,
   "metadata": {},
   "outputs": [],
   "source": [
    "ts = np.array([t1._mcpts, t2._mcpts, t3._mcpts]).min(axis=0)"
   ]
  },
  {
   "cell_type": "code",
   "execution_count": 11,
   "metadata": {},
   "outputs": [
    {
     "data": {
      "text/plain": [
       "0.3137"
      ]
     },
     "execution_count": 11,
     "metadata": {},
     "output_type": "execute_result"
    }
   ],
   "source": [
    "Rs = np.mean(ts > t)\n",
    "Rs"
   ]
  },
  {
   "cell_type": "markdown",
   "metadata": {},
   "source": [
    "## Check mean and reliability estimates vs. actual"
   ]
  },
  {
   "cell_type": "code",
   "execution_count": 12,
   "metadata": {},
   "outputs": [],
   "source": [
    "def p_error(actual, sim):\n",
    "    # percent error calculation\n",
    "    result = round(100 * (sim - actual)/actual, 3)\n",
    "    actual = round(actual, 4)\n",
    "    sim = round(sim, 4)\n",
    "    print('Actual = {}, Simulated = {}, Error = {}%'.format(actual, sim, result))"
   ]
  },
  {
   "cell_type": "code",
   "execution_count": 13,
   "metadata": {},
   "outputs": [
    {
     "data": {
      "text/plain": [
       "(892.979511569249, 1785.959023138498, 2678.938534707747)"
      ]
     },
     "execution_count": 13,
     "metadata": {},
     "output_type": "execute_result"
    }
   ],
   "source": [
    "m1 = eta1*gamma(1 + 1/beta) # check mean 1\n",
    "m2 = eta2*gamma(1 + 1/beta) # check mean 2\n",
    "m3 = eta3*gamma(1 + 1/beta) # check mean 3\n",
    "m1, m2, m3"
   ]
  },
  {
   "cell_type": "code",
   "execution_count": 14,
   "metadata": {},
   "outputs": [
    {
     "name": "stdout",
     "output_type": "stream",
     "text": [
      "Actual = 892.9795, Simulated = 892.9782, Error = -0.0%\n"
     ]
    }
   ],
   "source": [
    "# Mean 1\n",
    "p_error(m1, t1.mean)"
   ]
  },
  {
   "cell_type": "code",
   "execution_count": 15,
   "metadata": {},
   "outputs": [
    {
     "name": "stdout",
     "output_type": "stream",
     "text": [
      "Actual = 1785.959, Simulated = 1785.9452, Error = -0.001%\n"
     ]
    }
   ],
   "source": [
    "# Mean 2\n",
    "p_error(m2, t2.mean)"
   ]
  },
  {
   "cell_type": "code",
   "execution_count": 16,
   "metadata": {},
   "outputs": [
    {
     "name": "stdout",
     "output_type": "stream",
     "text": [
      "Actual = 2678.9385, Simulated = 2678.9431, Error = 0.0%\n"
     ]
    }
   ],
   "source": [
    "# Mean 3\n",
    "p_error(m3, t3.mean)"
   ]
  },
  {
   "cell_type": "code",
   "execution_count": 17,
   "metadata": {},
   "outputs": [],
   "source": [
    "def weibull_surv(time, fr, slope):\n",
    "    # Weibull distribution survival function\n",
    "    # fr = failure rate (1/scale)\n",
    "    # slope = shape parameter (slope of line on Weibull plot)\n",
    "    return np.exp(-((time*fr)**slope))"
   ]
  },
  {
   "cell_type": "code",
   "execution_count": 18,
   "metadata": {},
   "outputs": [
    {
     "data": {
      "text/plain": [
       "array([0.3679, 0.8825, 0.9636, 0.3128])"
      ]
     },
     "execution_count": 18,
     "metadata": {},
     "output_type": "execute_result"
    }
   ],
   "source": [
    "r1 = weibull_surv(t, 1.0/eta1, beta)\n",
    "r2 = weibull_surv(t, 1.0/eta2, beta)\n",
    "r3 = weibull_surv(t, 1.0/eta3, beta)\n",
    "rs = r1 * r2 * r3\n",
    "np.round(np.array([r1, r2, r3, rs]), 4)"
   ]
  },
  {
   "cell_type": "code",
   "execution_count": 19,
   "metadata": {},
   "outputs": [
    {
     "name": "stdout",
     "output_type": "stream",
     "text": [
      "Actual = 0.3679, Simulated = 0.3679, Error = 0.006%\n"
     ]
    }
   ],
   "source": [
    "# Reliability 1\n",
    "p_error(r1, R1)"
   ]
  },
  {
   "cell_type": "code",
   "execution_count": 20,
   "metadata": {},
   "outputs": [
    {
     "name": "stdout",
     "output_type": "stream",
     "text": [
      "Actual = 0.8825, Simulated = 0.8825, Error = 0.0%\n"
     ]
    }
   ],
   "source": [
    "# Reliability 2\n",
    "p_error(r2, R2)"
   ]
  },
  {
   "cell_type": "code",
   "execution_count": 21,
   "metadata": {},
   "outputs": [
    {
     "name": "stdout",
     "output_type": "stream",
     "text": [
      "Actual = 0.9636, Simulated = 0.9637, Error = 0.006%\n"
     ]
    }
   ],
   "source": [
    "# Reliability 3\n",
    "p_error(r3, R3)"
   ]
  },
  {
   "cell_type": "code",
   "execution_count": 22,
   "metadata": {},
   "outputs": [
    {
     "name": "stdout",
     "output_type": "stream",
     "text": [
      "Actual = 0.3128, Simulated = 0.3137, Error = 0.272%\n"
     ]
    }
   ],
   "source": [
    "# Reliability System\n",
    "p_error(rs, Rs)"
   ]
  }
 ],
 "metadata": {
  "kernelspec": {
   "display_name": "Python 3 (ipykernel)",
   "language": "python",
   "name": "python3"
  },
  "language_info": {
   "codemirror_mode": {
    "name": "ipython",
    "version": 3
   },
   "file_extension": ".py",
   "mimetype": "text/x-python",
   "name": "python",
   "nbconvert_exporter": "python",
   "pygments_lexer": "ipython3",
   "version": "3.8.12"
  }
 },
 "nbformat": 4,
 "nbformat_minor": 4
}
